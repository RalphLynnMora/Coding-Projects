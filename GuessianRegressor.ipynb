{
  "cells": [
    {
      "cell_type": "markdown",
      "metadata": {
        "id": "view-in-github",
        "colab_type": "text"
      },
      "source": [
        "<a href=\"https://colab.research.google.com/github/RalphLynnMora/Coding-Projects/blob/main/Untitled12.ipynb\" target=\"_parent\"><img src=\"https://colab.research.google.com/assets/colab-badge.svg\" alt=\"Open In Colab\"/></a>"
      ]
    },
    {
      "cell_type": "code",
      "execution_count": 4,
      "metadata": {
        "colab": {
          "base_uri": "https://localhost:8080/",
          "height": 211
        },
        "id": "DhUrmTHtkcPw",
        "outputId": "98cd09d1-f584-4f00-a7b1-0072ac7a2488"
      },
      "outputs": [
        {
          "output_type": "error",
          "ename": "NameError",
          "evalue": "name 'data' is not defined",
          "traceback": [
            "\u001b[0;31m---------------------------------------------------------------------------\u001b[0m",
            "\u001b[0;31mNameError\u001b[0m                                 Traceback (most recent call last)",
            "\u001b[0;32m<ipython-input-4-aefbac31d89b>\u001b[0m in \u001b[0;36m<cell line: 25>\u001b[0;34m()\u001b[0m\n\u001b[1;32m     23\u001b[0m     \u001b[0;32mreturn\u001b[0m \u001b[0mnp\u001b[0m\u001b[0;34m.\u001b[0m\u001b[0mvstack\u001b[0m\u001b[0;34m(\u001b[0m\u001b[0mresult\u001b[0m\u001b[0;34m)\u001b[0m\u001b[0;34m.\u001b[0m\u001b[0mT\u001b[0m\u001b[0;34m\u001b[0m\u001b[0;34m\u001b[0m\u001b[0m\n\u001b[1;32m     24\u001b[0m \u001b[0;34m\u001b[0m\u001b[0m\n\u001b[0;32m---> 25\u001b[0;31m \u001b[0mY\u001b[0m\u001b[0;34m,\u001b[0m\u001b[0my\u001b[0m\u001b[0;34m=\u001b[0m\u001b[0mdata\u001b[0m\u001b[0;34m(\u001b[0m\u001b[0;36m100\u001b[0m\u001b[0;34m,\u001b[0m\u001b[0;36m3\u001b[0m\u001b[0;34m,\u001b[0m\u001b[0;36m0.09\u001b[0m\u001b[0;34m)\u001b[0m\u001b[0;34m\u001b[0m\u001b[0;34m\u001b[0m\u001b[0m\n\u001b[0m\u001b[1;32m     26\u001b[0m \u001b[0mz\u001b[0m\u001b[0;34m=\u001b[0m\u001b[0mnp\u001b[0m\u001b[0;34m.\u001b[0m\u001b[0mlinspace\u001b[0m\u001b[0;34m(\u001b[0m\u001b[0;36m0\u001b[0m\u001b[0;34m,\u001b[0m\u001b[0;36m99\u001b[0m\u001b[0;34m,\u001b[0m\u001b[0;36m98\u001b[0m\u001b[0;34m)\u001b[0m\u001b[0;34m\u001b[0m\u001b[0;34m\u001b[0m\u001b[0m\n\u001b[1;32m     27\u001b[0m \u001b[0mplt\u001b[0m\u001b[0;34m.\u001b[0m\u001b[0mplot\u001b[0m\u001b[0;34m(\u001b[0m\u001b[0mz\u001b[0m\u001b[0;34m,\u001b[0m \u001b[0mY\u001b[0m\u001b[0;34m,\u001b[0m \u001b[0mlabel\u001b[0m\u001b[0;34m=\u001b[0m\u001b[0;34mr\"Data\"\u001b[0m\u001b[0;34m,\u001b[0m \u001b[0mlinestyle\u001b[0m\u001b[0;34m=\u001b[0m\u001b[0;34m\"dotted\"\u001b[0m\u001b[0;34m)\u001b[0m\u001b[0;34m\u001b[0m\u001b[0;34m\u001b[0m\u001b[0m\n",
            "\u001b[0;31mNameError\u001b[0m: name 'data' is not defined"
          ]
        }
      ],
      "source": [
        "import numpy as np\n",
        "import matplotlib.pyplot as plt\n",
        "from scipy import signal\n",
        "from random import uniform\n",
        "from sklearn.gaussian_process.kernels import DotProduct, WhiteKernel\n",
        "from sklearn.gaussian_process import GaussianProcessRegressor\n",
        "from sklearn.gaussian_process.kernels import RBF\n",
        "\n",
        "def buffer(x, n, p=0):\n",
        "    # From https://stackoverflow.com/questions/38453249/is-there-a-matlabs-buffer-equivalent-in-numpy\n",
        "    i = 0\n",
        "    result = x[:n]\n",
        "    i = n\n",
        "    result = list(np.expand_dims(result, axis=0))\n",
        "    while i < len(x):\n",
        "        col = x[i:i+(n-p)]\n",
        "        if p != 0:\n",
        "            col = np.hstack([result[-1][-p:], col])\n",
        "        if len(col):\n",
        "            col = np.hstack([col, np.zeros(n - len(col))])\n",
        "        result.append(np.array(col))\n",
        "        i += (n - p)\n",
        "    return np.vstack(result).T\n",
        "\n",
        "Y,y=data(100,3,0.09)\n",
        "z=np.linspace(0,99,98)\n",
        "plt.plot(z, Y, label=r\"Data\", linestyle=\"dotted\")\n",
        "plt.legend()\n",
        "plt.xlabel(\"$x$\")\n",
        "plt.ylabel(\"$f(x)$\")\n",
        "plt.title(\"True process\")\n",
        "plt.show()\n",
        "\n",
        "\n",
        "\n",
        "rng = np.random.RandomState(20) # Change the random state value in order to obtain a different trainuing dataset\n",
        "M=90\n",
        "N1=0\n",
        "N2=100\n",
        "training_indices = rng.choice(np.arange(N1,N2), size=M, replace=False)\n",
        "X_train, y_train = z[training_indices], Y[training_indices]\n",
        "\n",
        "plt.plot(z, Y, label=r\"Data\", linestyle=\"dotted\")\n",
        "plt.plot(X_train, y_train,'o', label=\"Train Samples\", )\n",
        "plt.legend()\n",
        "plt.xlabel(\"$x$\")\n",
        "plt.ylabel(\"$f(x)$\")\n",
        "plt.title(\"True process and training data\")\n",
        "plt.show()\n",
        "\n",
        "\n",
        "\n",
        "#kernel = 1*DotProduct(1) + WhiteKernel(1)\n",
        "#kernel = 1 * RBF(length_scale=1.0, length_scale_bounds=(1e-3, 1e2))\n",
        "\n",
        "gaussian_process = GaussianProcessRegressor(kernel=kernel, n_restarts_optimizer=9)\n",
        "gaussian_process.fit(X_train.reshape(-1, 1), y_train.reshape(-1, 1))\n",
        "gaussian_process.kernel_\n",
        "\n",
        "\n",
        "\n",
        "mean_prediction, std_prediction = gaussian_process.predict(z.reshape(-1, 1), return_std=True)\n",
        "plt.scatter(X_train, y_train, label=\"Observations\",color=\"black\")\n",
        "plt.plot(z, Y, label=r\"Data\", linestyle=\"dotted\")\n",
        "plt.plot(z, mean_prediction, label=\"Mean prediction\",color=\"red\")\n",
        "plt.plot(z, mean_prediction+ 0.1,color=\"blue\")\n",
        "plt.plot(z, mean_prediction-0.1, label=\"Sigma Bands\",color=\"blue\")\n",
        "plt.fill_between(\n",
        "    z.ravel(),\n",
        "    mean_prediction - .1,\n",
        "    mean_prediction + .1,\n",
        "    alpha=0.2,\n",
        "\n",
        ")\n",
        "plt.legend()\n",
        "plt.xlabel(\"$x$\")\n",
        "plt.ylabel(\"$f(x)$\")\n",
        "plt.title(\"Gaussian process regression\")\n",
        "plt.show()"
      ]
    }
  ],
  "metadata": {
    "colab": {
      "provenance": [],
      "authorship_tag": "ABX9TyM+I8CI43psaNFuX1jm5O2T",
      "include_colab_link": true
    },
    "kernelspec": {
      "display_name": "Python 3",
      "name": "python3"
    },
    "language_info": {
      "name": "python"
    }
  },
  "nbformat": 4,
  "nbformat_minor": 0
}
